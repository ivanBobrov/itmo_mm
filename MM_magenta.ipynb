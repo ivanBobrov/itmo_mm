{
 "cells": [
  {
   "cell_type": "code",
   "execution_count": null,
   "metadata": {
    "scrolled": false
   },
   "outputs": [],
   "source": [
    "#!pip install magenta"
   ]
  },
  {
   "cell_type": "code",
   "execution_count": null,
   "metadata": {},
   "outputs": [],
   "source": [
    "import numpy as np\n",
    "import magenta.music as mm\n",
    "import magenta.music.midi_io as midi_io\n",
    "from magenta.models.score2perf import score2perf\n",
    "from tensor2tensor.utils import trainer_lib\n",
    "from tensor2tensor.utils import decoding\n",
    "from tensor2tensor.data_generators import text_encoder"
   ]
  },
  {
   "cell_type": "code",
   "execution_count": null,
   "metadata": {},
   "outputs": [],
   "source": [
    "model_name = 'transformer'\n",
    "hparams_set = 'transformer_tpu'\n",
    "ckpt_path = './melody_conditioned_model_16.ckpt/melody_conditioned_model_16.ckpt'"
   ]
  },
  {
   "cell_type": "code",
   "execution_count": null,
   "metadata": {},
   "outputs": [],
   "source": [
    "class MelodyToPianoPerformanceProblem(score2perf.AbsoluteMelody2PerfProblem):\n",
    "    @property\n",
    "    def add_eos_symbol(self):\n",
    "        return True\n"
   ]
  },
  {
   "cell_type": "code",
   "execution_count": null,
   "metadata": {},
   "outputs": [],
   "source": [
    "problem = MelodyToPianoPerformanceProblem()\n",
    "melody_conditioned_encoders = problem.get_feature_encoders()"
   ]
  },
  {
   "cell_type": "code",
   "execution_count": null,
   "metadata": {},
   "outputs": [],
   "source": [
    "hparams = trainer_lib.create_hparams(hparams_set=hparams_set)\n",
    "trainer_lib.add_problem_hparams(hparams, problem)\n",
    "hparams.num_hidden_layers = 16\n",
    "hparams.sampling_method = 'random'"
   ]
  },
  {
   "cell_type": "code",
   "execution_count": null,
   "metadata": {},
   "outputs": [],
   "source": [
    "decode_hparams = decoding.decode_hparams()\n",
    "decode_hparams.alpha = 0.0\n",
    "decode_hparams.beam_size = 1"
   ]
  },
  {
   "cell_type": "code",
   "execution_count": null,
   "metadata": {},
   "outputs": [],
   "source": [
    "run_config = trainer_lib.create_run_config(hparams)\n",
    "estimator = trainer_lib.create_estimator(model_name, hparams, run_config,\n",
    "                                         decode_hparams=decode_hparams)"
   ]
  },
  {
   "cell_type": "code",
   "execution_count": null,
   "metadata": {},
   "outputs": [],
   "source": [
    "inputs = []\n",
    "decode_length = 0"
   ]
  },
  {
   "cell_type": "code",
   "execution_count": null,
   "metadata": {},
   "outputs": [],
   "source": [
    "# Create input generator.\n",
    "def input_generator():\n",
    "    global inputs\n",
    "    while True:\n",
    "        yield {\n",
    "            'inputs': np.array([[inputs]], dtype=np.int32),\n",
    "            'targets': np.zeros([1, 0], dtype=np.int32),\n",
    "            'decode_length': np.array(decode_length, dtype=np.int32)\n",
    "        }\n"
   ]
  },
  {
   "cell_type": "code",
   "execution_count": null,
   "metadata": {},
   "outputs": [],
   "source": [
    "input_fn = decoding.make_input_fn_from_generator(input_generator())\n",
    "melody_conditioned_samples = estimator.predict(input_fn, checkpoint_path=ckpt_path)\n",
    "next(melody_conditioned_samples)"
   ]
  },
  {
   "cell_type": "code",
   "execution_count": null,
   "metadata": {},
   "outputs": [],
   "source": [
    "melody_ns = mm.midi_file_to_note_sequence(\"chopin.mid\")\n",
    "melody_instrument = mm.infer_melody_for_sequence(melody_ns)\n",
    "notes = [note for note in melody_ns.notes\n",
    "         if note.instrument == melody_instrument]\n",
    "del melody_ns.notes[:]\n",
    "melody_ns.notes.extend(sorted(notes, key=lambda note: note.start_time))\n",
    "for i in range(len(melody_ns.notes) - 1):\n",
    "    melody_ns.notes[i].end_time = melody_ns.notes[i + 1].start_time\n",
    "inputs = melody_conditioned_encoders['inputs'].encode_note_sequence(melody_ns)"
   ]
  },
  {
   "cell_type": "code",
   "execution_count": null,
   "metadata": {},
   "outputs": [],
   "source": [
    "# Decode a list of IDs.\n",
    "def decode(ids, encoder):\n",
    "    ids = list(ids)\n",
    "    if text_encoder.EOS_ID in ids:\n",
    "        ids = ids[:ids.index(text_encoder.EOS_ID)]\n",
    "    return encoder.decode(ids)"
   ]
  },
  {
   "cell_type": "code",
   "execution_count": null,
   "metadata": {},
   "outputs": [],
   "source": [
    "decode_length = 4096\n",
    "sample_ids = next(melody_conditioned_samples)['outputs']\n",
    "# To note sequence\n",
    "midi_filename = decode(sample_ids, encoder=melody_conditioned_encoders['targets'])\n",
    "accompaniment_ns = mm.midi_file_to_note_sequence(midi_filename)\n",
    "mm.sequence_proto_to_midi_file(accompaniment_ns, \"output.mid\")\n",
    "\n",
    "mm.plot_sequence(accompaniment_ns)\n",
    "mm.play_sequence(accompaniment_ns)"
   ]
  },
  {
   "cell_type": "code",
   "execution_count": null,
   "metadata": {},
   "outputs": [],
   "source": []
  }
 ],
 "metadata": {
  "kernelspec": {
   "display_name": "Python 3",
   "language": "python",
   "name": "python3"
  },
  "language_info": {
   "codemirror_mode": {
    "name": "ipython",
    "version": 3
   },
   "file_extension": ".py",
   "mimetype": "text/x-python",
   "name": "python",
   "nbconvert_exporter": "python",
   "pygments_lexer": "ipython3",
   "version": "3.7.4"
  }
 },
 "nbformat": 4,
 "nbformat_minor": 2
}
